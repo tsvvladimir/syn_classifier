{
 "cells": [
  {
   "cell_type": "code",
   "execution_count": 1,
   "metadata": {
    "collapsed": true
   },
   "outputs": [],
   "source": [
    "%matplotlib inline\n",
    "from __future__ import division\n",
    "import os\n",
    "from sklearn.datasets import load_files\n",
    "from tqdm import tqdm\n",
    "import numpy as np\n",
    "import random\n",
    "import scipy"
   ]
  },
  {
   "cell_type": "code",
   "execution_count": 2,
   "metadata": {
    "collapsed": false
   },
   "outputs": [
    {
     "name": "stdout",
     "output_type": "stream",
     "text": [
      "['target_names', 'data', 'target', 'DESCR', 'filenames']\n",
      "['target_names', 'data', 'target', 'DESCR', 'filenames']\n"
     ]
    }
   ],
   "source": [
    "train = load_files(os.path.join(os.getcwd(), '..', 'data', 'raw', '20news-bydate', '20news-bydate-train'), encoding = 'utf-8', decode_error= 'replace')\n",
    "print train.keys()\n",
    "test = load_files(os.path.join(os.getcwd(), '..', 'data', 'raw', '20news-bydate', '20news-bydate-test'), encoding = 'utf-8', decode_error= 'replace')\n",
    "print train.keys()"
   ]
  },
  {
   "cell_type": "code",
   "execution_count": 3,
   "metadata": {
    "collapsed": true
   },
   "outputs": [],
   "source": [
    "from nltk.tokenize import RegexpTokenizer\n",
    "from nltk.corpus import stopwords\n",
    "stopwords = set(stopwords.words('english'))\n",
    "from nltk.stem.porter import PorterStemmer\n",
    "stemmer = PorterStemmer()\n",
    "import re"
   ]
  },
  {
   "cell_type": "code",
   "execution_count": 4,
   "metadata": {
    "collapsed": true
   },
   "outputs": [],
   "source": [
    "def preprocess(text):\n",
    "    text = text.lower()\n",
    "    tokenizer = RegexpTokenizer(r'[a-z]+')\n",
    "    tokens = tokenizer.tokenize(text)\n",
    "    filtered_words = [w for w in tokens if not w in stopwords]\n",
    "    stemmed_words = [stemmer.stem(w) for w in filtered_words]\n",
    "    return \" \".join(stemmed_words)"
   ]
  },
  {
   "cell_type": "code",
   "execution_count": 5,
   "metadata": {
    "collapsed": false
   },
   "outputs": [
    {
     "name": "stderr",
     "output_type": "stream",
     "text": [
      "100%|████████████████████████████████████████████████████████████████████████████████████████████████████████████████| 11314/11314 [00:15<00:00, 725.30it/s]\n",
      "100%|██████████████████████████████████████████████████████████████████████████████████████████████████████████████████| 7532/7532 [00:09<00:00, 764.90it/s]\n"
     ]
    }
   ],
   "source": [
    "for i in tqdm(range(len(train['data']))):\n",
    "    train['data'][i] = preprocess(train['data'][i])\n",
    "for i in tqdm(range(len(test['data']))):\n",
    "    test['data'][i] = preprocess(test['data'][i])"
   ]
  },
  {
   "cell_type": "code",
   "execution_count": 6,
   "metadata": {
    "collapsed": true
   },
   "outputs": [],
   "source": [
    "from sklearn.feature_extraction.text import CountVectorizer\n",
    "from sklearn.feature_extraction.text import TfidfTransformer"
   ]
  },
  {
   "cell_type": "code",
   "execution_count": 7,
   "metadata": {
    "collapsed": true
   },
   "outputs": [],
   "source": [
    "vect = CountVectorizer()\n",
    "tfidf = TfidfTransformer()\n",
    "train_vect = vect.fit_transform(train['data'])\n",
    "test_vect = vect.transform(test['data'])\n",
    "train_tfidf = tfidf.fit_transform(train_vect)\n",
    "test_tfidf = tfidf.transform(test_vect)"
   ]
  },
  {
   "cell_type": "code",
   "execution_count": 8,
   "metadata": {
    "collapsed": true
   },
   "outputs": [],
   "source": [
    "train_target = train['target']\n",
    "test_target = test['target']"
   ]
  },
  {
   "cell_type": "code",
   "execution_count": 9,
   "metadata": {
    "collapsed": true
   },
   "outputs": [],
   "source": [
    "from sklearn.svm import SVC\n",
    "from sklearn.metrics import f1_score"
   ]
  },
  {
   "cell_type": "code",
   "execution_count": 10,
   "metadata": {
    "collapsed": false
   },
   "outputs": [
    {
     "name": "stdout",
     "output_type": "stream",
     "text": [
      "[LibSVM]Wall time: 9min 7s\n"
     ]
    },
    {
     "data": {
      "text/plain": [
       "SVC(C=1.0, cache_size=200, class_weight=None, coef0=0.0,\n",
       "  decision_function_shape='ovr', degree=3, gamma='auto', kernel='linear',\n",
       "  max_iter=-1, probability=True, random_state=None, shrinking=True,\n",
       "  tol=0.001, verbose=True)"
      ]
     },
     "execution_count": 10,
     "metadata": {},
     "output_type": "execute_result"
    }
   ],
   "source": [
    "clf = SVC(kernel='linear', probability= True, verbose = True, decision_function_shape= 'ovr')\n",
    "%time clf.fit(train_tfidf, train_target)"
   ]
  },
  {
   "cell_type": "code",
   "execution_count": 11,
   "metadata": {
    "collapsed": false
   },
   "outputs": [
    {
     "data": {
      "text/plain": [
       "0.82622209840653338"
      ]
     },
     "execution_count": 11,
     "metadata": {},
     "output_type": "execute_result"
    }
   ],
   "source": [
    "predicted = clf.predict(test_tfidf)\n",
    "f1_score(test_target, predicted, average= 'macro')"
   ]
  },
  {
   "cell_type": "code",
   "execution_count": 12,
   "metadata": {
    "collapsed": false
   },
   "outputs": [
    {
     "name": "stdout",
     "output_type": "stream",
     "text": [
      "(11314, 69637)\n",
      "11314\n"
     ]
    }
   ],
   "source": [
    "print train_tfidf.shape\n",
    "print len(train_target)"
   ]
  },
  {
   "cell_type": "code",
   "execution_count": 13,
   "metadata": {
    "collapsed": true
   },
   "outputs": [],
   "source": [
    "def sample_data_target(L_data, L_target, data, target, idxs):\n",
    "    for idx, idxdel in enumerate(idxs):\n",
    "        L_data = scipy.sparse.vstack((L_data, data.getrow(idxdel)))\n",
    "    idxs = list(idxs)\n",
    "    mask = np.ones(data.shape[0], bool)\n",
    "    mask[idxs] = False\n",
    "    data = data[mask]\n",
    "    L_target = np.append(L_target, np.take(target, idxs))\n",
    "    target = np.delete(target, idxs)\n",
    "    return (L_data, L_target, data, target)"
   ]
  },
  {
   "cell_type": "code",
   "execution_count": 14,
   "metadata": {
    "collapsed": false
   },
   "outputs": [],
   "source": [
    "idxs = np.random.randint(len(train_target), size=100)\n",
    "L_data, L_target, train_tfidf, train_target = sample_data_target(scipy.sparse.csr_matrix((0, train_tfidf.shape[1])), [], train_tfidf, train_target, idxs)"
   ]
  },
  {
   "cell_type": "code",
   "execution_count": 15,
   "metadata": {
    "collapsed": false
   },
   "outputs": [
    {
     "name": "stdout",
     "output_type": "stream",
     "text": [
      "(11215, 69637)\n",
      "11215\n",
      "(100, 69637)\n",
      "100\n"
     ]
    }
   ],
   "source": [
    "print train_tfidf.shape\n",
    "print len(train_target)\n",
    "print L_data.shape\n",
    "print len(L_target)\n",
    "import pandas as pd"
   ]
  },
  {
   "cell_type": "code",
   "execution_count": 16,
   "metadata": {
    "collapsed": false
   },
   "outputs": [
    {
     "name": "stdout",
     "output_type": "stream",
     "text": [
      "0 iter\n",
      "Wall time: 83 ms\n",
      "train size 100 f1 score on test"
     ]
    },
    {
     "name": "stderr",
     "output_type": "stream",
     "text": [
      "C:\\Users\\vladimir\\Anaconda2\\lib\\site-packages\\sklearn\\metrics\\classification.py:1074: UndefinedMetricWarning: F-score is ill-defined and being set to 0.0 in labels with no predicted samples.\n",
      "  'precision', 'predicted', average, warn_for)\n"
     ]
    },
    {
     "name": "stdout",
     "output_type": "stream",
     "text": [
      " 0.0836142428556\n",
      "1 iter\n",
      "Wall time: 841 ms\n",
      "train size 200 f1 score on test 0.0641843660113\n",
      "2 iter\n",
      "Wall time: 1.42 s\n",
      "train size 300 f1 score on test 0.09332023783\n",
      "3 iter\n",
      "Wall time: 2.01 s\n",
      "train size 400 f1 score on test 0.267680497235\n",
      "4 iter\n",
      "Wall time: 2.63 s\n",
      "train size 500 f1 score on test 0.349506113467\n",
      "5 iter\n",
      "Wall time: 3.36 s\n",
      "train size 600 f1 score on test 0.465529141126\n",
      "6 iter\n",
      "Wall time: 4.95 s\n",
      "train size 700 f1 score on test 0.534151854823\n",
      "7 iter\n",
      "Wall time: 6.27 s\n",
      "train size 800 f1 score on test 0.583272900409\n",
      "8 iter\n",
      "Wall time: 6.69 s\n",
      "train size 900 f1 score on test 0.60952853748\n",
      "9 iter\n",
      "Wall time: 7.17 s\n",
      "train size 1000 f1 score on test 0.630735800882\n",
      "10 iter\n",
      "Wall time: 8.21 s\n",
      "train size 1100 f1 score on test 0.644022087435\n",
      "11 iter\n",
      "Wall time: 9.76 s\n",
      "train size 1200 f1 score on test 0.654454662065\n",
      "12 iter\n",
      "Wall time: 11.1 s\n",
      "train size 1300 f1 score on test 0.660166096288\n",
      "13 iter\n",
      "Wall time: 12.7 s\n",
      "train size 1400 f1 score on test 0.666518239872\n",
      "14 iter\n",
      "Wall time: 14.4 s\n",
      "train size 1500 f1 score on test 0.675878319829\n",
      "15 iter\n",
      "Wall time: 16 s\n",
      "train size 1600 f1 score on test 0.683552917076\n",
      "16 iter\n",
      "Wall time: 18 s\n",
      "train size 1700 f1 score on test 0.687607856151\n",
      "17 iter\n",
      "Wall time: 20.1 s\n",
      "train size 1800 f1 score on test 0.698838163458\n",
      "18 iter\n",
      "Wall time: 22.3 s\n",
      "train size 1900 f1 score on test 0.704965702995\n",
      "19 iter\n",
      "Wall time: 24.7 s\n",
      "train size 2000 f1 score on test 0.710219053584\n",
      "20 iter\n",
      "Wall time: 27.2 s\n",
      "train size 2100 f1 score on test 0.720832755571\n",
      "21 iter\n",
      "Wall time: 29.9 s\n",
      "train size 2200 f1 score on test 0.730239119483\n",
      "22 iter\n",
      "Wall time: 37.2 s\n",
      "train size 2300 f1 score on test 0.732667186007\n",
      "23 iter\n",
      "Wall time: 35.8 s\n",
      "train size 2400 f1 score on test 0.742412193597\n",
      "24 iter\n",
      "Wall time: 40.5 s\n",
      "train size 2500 f1 score on test 0.744540009491\n",
      "25 iter\n",
      "Wall time: 42.2 s\n",
      "train size 2600 f1 score on test 0.747168476121\n",
      "26 iter\n",
      "Wall time: 45.6 s\n",
      "train size 2700 f1 score on test 0.751160999978\n",
      "27 iter\n",
      "Wall time: 49 s\n",
      "train size 2800 f1 score on test 0.756290684129\n",
      "28 iter\n",
      "Wall time: 57 s\n",
      "train size 2900 f1 score on test 0.765778528124\n",
      "29 iter\n",
      "Wall time: 56.7 s\n",
      "train size 3000 f1 score on test 0.767511531192\n",
      "30 iter\n",
      "Wall time: 1min\n",
      "train size 3100 f1 score on test 0.771829879516\n",
      "31 iter\n",
      "Wall time: 1min 12s\n",
      "train size 3200 f1 score on test 0.773796023262\n",
      "32 iter\n",
      "Wall time: 1min 16s\n",
      "train size 3300 f1 score on test 0.781679062524\n",
      "33 iter\n",
      "Wall time: 1min 21s\n",
      "train size 3400 f1 score on test 0.781739006126\n",
      "34 iter\n",
      "Wall time: 1min 25s\n",
      "train size 3500 f1 score on test 0.786102055714\n",
      "35 iter\n",
      "Wall time: 1min 29s\n",
      "train size 3600 f1 score on test 0.791187378486\n",
      "36 iter\n",
      "Wall time: 1min 36s\n",
      "train size 3700 f1 score on test 0.795804531197\n",
      "37 iter\n",
      "Wall time: 1min 44s\n",
      "train size 3800 f1 score on test 0.794219063948\n",
      "38 iter\n",
      "Wall time: 1min 50s\n",
      "train size 3900 f1 score on test 0.793005399999\n",
      "39 iter\n",
      "Wall time: 1min 55s\n",
      "train size 4000 f1 score on test 0.796613191517\n",
      "40 iter\n",
      "Wall time: 2min\n",
      "train size 4100 f1 score on test 0.798518195932\n",
      "41 iter\n",
      "Wall time: 1min 52s\n",
      "train size 4200 f1 score on test 0.799277810002\n",
      "42 iter\n",
      "Wall time: 1min 58s\n",
      "train size 4300 f1 score on test 0.802089988364\n",
      "43 iter\n",
      "Wall time: 2min 3s\n",
      "train size 4400 f1 score on test 0.801773782811\n",
      "44 iter\n",
      "Wall time: 2min 12s\n",
      "train size 4500 f1 score on test 0.806503088767\n",
      "45 iter\n",
      "Wall time: 2min 18s\n",
      "train size 4600 f1 score on test 0.808954762962\n",
      "46 iter\n",
      "Wall time: 2min 21s\n",
      "train size 4700 f1 score on test 0.80942889992\n",
      "47 iter\n",
      "Wall time: 2min 27s\n",
      "train size 4800 f1 score on test 0.809514536839\n",
      "48 iter\n",
      "Wall time: 2min 38s\n",
      "train size 4900 f1 score on test 0.810879585247\n",
      "49 iter\n",
      "Wall time: 2min 45s\n",
      "train size 5000 f1 score on test 0.812865972906\n",
      "50 iter\n",
      "Wall time: 2min 58s\n",
      "train size 5100 f1 score on test 0.812651176453\n",
      "51 iter\n",
      "Wall time: 3min 6s\n",
      "train size 5200 f1 score on test 0.81369590148\n",
      "52 iter\n",
      "Wall time: 3min 19s\n",
      "train size 5300 f1 score on test 0.81562186591\n",
      "53 iter\n",
      "Wall time: 3min 29s\n",
      "train size 5400 f1 score on test 0.815424796455\n",
      "54 iter\n",
      "Wall time: 3min 37s\n",
      "train size 5500 f1 score on test 0.816182365361\n",
      "55 iter\n",
      "Wall time: 3min 41s\n",
      "train size 5600 f1 score on test 0.816921514781\n",
      "56 iter\n",
      "Wall time: 3min 33s\n",
      "train size 5700 f1 score on test 0.818266763032\n",
      "57 iter\n",
      "Wall time: 3min 40s\n",
      "train size 5800 f1 score on test 0.819283080732\n",
      "58 iter\n",
      "Wall time: 3min 47s\n",
      "train size 5900 f1 score on test 0.820814413197\n",
      "59 iter\n",
      "Wall time: 3min 55s\n",
      "train size 6000 f1 score on test 0.819151414331\n",
      "60 iter\n",
      "Wall time: 3min 57s\n",
      "train size 6100 f1 score on test 0.820822624858\n",
      "61 iter\n",
      "Wall time: 4min 1s\n",
      "train size 6200 f1 score on test 0.82136109896\n",
      "62 iter\n",
      "Wall time: 4min 9s\n",
      "train size 6300 f1 score on test 0.821208333153\n",
      "63 iter\n",
      "Wall time: 4min 16s\n",
      "train size 6400 f1 score on test 0.822636919634\n",
      "64 iter\n",
      "Wall time: 4min 24s\n",
      "train size 6500 f1 score on test 0.82291326326\n",
      "65 iter\n",
      "Wall time: 4min 31s\n",
      "train size 6600 f1 score on test 0.822387872186\n",
      "66 iter\n",
      "Wall time: 4min 45s\n",
      "train size 6700 f1 score on test 0.822684647274\n",
      "67 iter\n",
      "Wall time: 4min 57s\n",
      "train size 6800 f1 score on test 0.823464506587\n",
      "68 iter\n",
      "Wall time: 5min 5s\n",
      "train size 6900 f1 score on test 0.823596133221\n",
      "69 iter\n",
      "Wall time: 5min 14s\n",
      "train size 7000 f1 score on test 0.823990135082\n",
      "70 iter\n",
      "Wall time: 5min 21s\n",
      "train size 7100 f1 score on test 0.823541512633\n",
      "71 iter\n",
      "Wall time: 5min 30s\n",
      "train size 7200 f1 score on test 0.823207169272\n",
      "72 iter\n",
      "Wall time: 5min 39s\n",
      "train size 7300 f1 score on test 0.822971995036\n",
      "73 iter\n",
      "Wall time: 5min 46s\n",
      "train size 7400 f1 score on test 0.823882671348\n",
      "74 iter\n",
      "Wall time: 5min 54s\n",
      "train size 7500 f1 score on test 0.823736187659\n",
      "75 iter\n",
      "Wall time: 6min 2s\n",
      "train size 7600 f1 score on test 0.824407684387\n",
      "76 iter\n",
      "Wall time: 6min 10s\n",
      "train size 7700 f1 score on test 0.824480455239\n",
      "77 iter\n",
      "Wall time: 6min 19s\n",
      "train size 7800 f1 score on test 0.825163683628\n",
      "78 iter\n",
      "Wall time: 6min 27s\n",
      "train size 7900 f1 score on test 0.825722809864\n",
      "79 iter\n",
      "Wall time: 6min 35s\n",
      "train size 8000 f1 score on test 0.825594008856\n",
      "80 iter\n",
      "Wall time: 6min 44s\n",
      "train size 8100 f1 score on test 0.82591517071\n",
      "81 iter\n",
      "Wall time: 6min 52s\n",
      "train size 8200 f1 score on test 0.826173019841\n",
      "82 iter\n",
      "Wall time: 7min\n",
      "train size 8300 f1 score on test 0.82619604933\n",
      "83 iter\n",
      "Wall time: 7min 9s\n",
      "train size 8400 f1 score on test 0.826206544883\n",
      "84 iter\n",
      "Wall time: 7min 16s\n",
      "train size 8500 f1 score on test 0.826040313679\n",
      "85 iter\n",
      "Wall time: 7min 26s\n",
      "train size 8600 f1 score on test 0.825909047994\n",
      "86 iter\n",
      "Wall time: 7min 33s\n",
      "train size 8700 f1 score on test 0.825782292674\n",
      "87 iter\n",
      "Wall time: 7min 41s\n",
      "train size 8800 f1 score on test 0.825765898584\n",
      "88 iter\n",
      "Wall time: 7min 50s\n",
      "train size 8900 f1 score on test 0.825765898584\n",
      "89 iter\n",
      "Wall time: 7min 57s\n",
      "train size 9000 f1 score on test 0.826124950411\n",
      "90 iter\n",
      "Wall time: 8min 4s\n",
      "train size 9100 f1 score on test 0.826249566786\n",
      "91 iter\n",
      "Wall time: 8min 13s\n",
      "train size 9200 f1 score on test 0.826249566786\n",
      "92 iter\n",
      "Wall time: 8min 20s\n",
      "train size 9300 f1 score on test 0.826372571512\n",
      "93 iter\n",
      "Wall time: 8min 26s\n",
      "train size 9400 f1 score on test 0.826369616674\n",
      "94 iter\n",
      "Wall time: 8min 32s\n",
      "train size 9500 f1 score on test 0.826475402348\n",
      "95 iter\n",
      "Wall time: 8min 38s\n",
      "train size 9600 f1 score on test 0.826475402348\n",
      "96 iter\n",
      "Wall time: 8min 42s\n",
      "train size 9700 f1 score on test 0.826475402348\n",
      "97 iter\n",
      "Wall time: 8min 49s\n",
      "train size 9800 f1 score on test 0.826169115932\n",
      "98 iter\n",
      "Wall time: 8min 52s\n",
      "train size 9900 f1 score on test 0.826169115932\n",
      "99 iter\n",
      "Wall time: 8min 59s\n",
      "train size 10000 f1 score on test 0.826169115932\n"
     ]
    }
   ],
   "source": [
    "clf = SVC(kernel='linear', probability= True, decision_function_shape= 'ovr')\n",
    "for t in range(100):\n",
    "    print t,'iter'\n",
    "    %time clf.fit(L_data, L_target)\n",
    "    predicted = clf.predict(test_tfidf)\n",
    "    print 'train size', L_data.shape[0], 'f1 score on test', f1_score(test_target, predicted, average= 'macro')\n",
    "    #choose 5 nearest to margin elements for each of 20 classes\n",
    "    #choose 100 nearest to margin examples\n",
    "    probs = clf.predict_proba(train_tfidf)\n",
    "    #print probs.shape\n",
    "    #idx_probs = enumerate(probs)\n",
    "    #print idx_probs\n",
    "    #print probs[0]\n",
    "    probs = np.apply_along_axis(sorted, 1, probs)\n",
    "    #print probs\n",
    "    sorted_probs = []\n",
    "    for arr in probs:\n",
    "        sorted_probs = np.append(sorted_probs, arr[-1])\n",
    "    #print sorted_probs\n",
    "    idx_sorted_probs = np.argsort(sorted_probs)\n",
    "    #print idx_sorted_probs\n",
    "    idxs = idx_sorted_probs[:100]\n",
    "    #idxs = np.random.randint(len(train_target), size=100)\n",
    "    L_data, L_target, train_tfidf, train_target = sample_data_target(L_data, L_target, train_tfidf, train_target, idxs)"
   ]
  },
  {
   "cell_type": "code",
   "execution_count": null,
   "metadata": {
    "collapsed": true
   },
   "outputs": [],
   "source": []
  }
 ],
 "metadata": {
  "kernelspec": {
   "display_name": "Python 2",
   "language": "python",
   "name": "python2"
  },
  "language_info": {
   "codemirror_mode": {
    "name": "ipython",
    "version": 2
   },
   "file_extension": ".py",
   "mimetype": "text/x-python",
   "name": "python",
   "nbconvert_exporter": "python",
   "pygments_lexer": "ipython2",
   "version": "2.7.11+"
  }
 },
 "nbformat": 4,
 "nbformat_minor": 0
}
